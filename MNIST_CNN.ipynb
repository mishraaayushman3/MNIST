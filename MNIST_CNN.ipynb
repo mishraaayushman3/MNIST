{
  "nbformat": 4,
  "nbformat_minor": 0,
  "metadata": {
    "colab": {
      "name": "MNIST_CNN.ipynb",
      "version": "0.3.2",
      "provenance": [],
      "collapsed_sections": []
    },
    "kernelspec": {
      "name": "python3",
      "display_name": "Python 3"
    }
  },
  "cells": [
    {
      "cell_type": "code",
      "metadata": {
        "id": "4_qXmf8n1LS2",
        "colab_type": "code",
        "outputId": "3d431861-4d3b-45ff-c832-3efbfd60a080",
        "colab": {
          "base_uri": "https://localhost:8080/",
          "height": 34
        }
      },
      "source": [
        "from keras.models import Sequential\n",
        "from keras.datasets import mnist\n",
        "from keras.layers import Dense\n",
        "from keras.layers import Conv2D\n",
        "from keras.layers import MaxPooling2D\n",
        "from keras.layers import Flatten\n",
        "import numpy as np"
      ],
      "execution_count": 0,
      "outputs": [
        {
          "output_type": "stream",
          "text": [
            "Using TensorFlow backend.\n"
          ],
          "name": "stderr"
        }
      ]
    },
    {
      "cell_type": "code",
      "metadata": {
        "id": "KhNhVJTXhNMh",
        "colab_type": "code",
        "outputId": "170343c7-c4f8-4c46-8312-7ed8acf4c6f9",
        "colab": {
          "base_uri": "https://localhost:8080/",
          "height": 50
        }
      },
      "source": [
        "from keras.utils import np_utils\n",
        "(x_train,y_train), (x_test,y_test) = mnist.load_data()\n",
        "\n",
        "#The format of x_train should be (No. of images, row , col, channel (3 for rgb and 1 for gray))\n",
        "x_train = x_train.reshape(60000,28,28,1)\n",
        "x_test = x_test.reshape(10000,28,28,1)\n",
        "#make sure data are in float32 because it is going to be scalled down\n",
        "x_train = x_train.astype('float32')\n",
        "x_test = x_test.astype('float32')\n",
        "x_train /= 255\n",
        "x_test /= 255\n",
        "\n",
        "y_train = np_utils.to_categorical(y_train, num_classes = 10)\n",
        "y_test = np_utils.to_categorical(y_test, num_classes = 10)"
      ],
      "execution_count": 0,
      "outputs": [
        {
          "output_type": "stream",
          "text": [
            "Downloading data from https://s3.amazonaws.com/img-datasets/mnist.npz\n",
            "11493376/11490434 [==============================] - 0s 0us/step\n"
          ],
          "name": "stdout"
        }
      ]
    },
    {
      "cell_type": "code",
      "metadata": {
        "id": "oAWnW2Y9YAEw",
        "colab_type": "code",
        "colab": {}
      },
      "source": [
        "a = x_test[0]\n",
        "a = np.reshape(a,(1,28,28,1))\n",
        "b = y_test[0]\n"
      ],
      "execution_count": 0,
      "outputs": []
    },
    {
      "cell_type": "code",
      "metadata": {
        "id": "ejhTdYaSIkKE",
        "colab_type": "code",
        "colab": {}
      },
      "source": [
        "model = Sequential()"
      ],
      "execution_count": 0,
      "outputs": []
    },
    {
      "cell_type": "code",
      "metadata": {
        "id": "NWJKwiK4IpW8",
        "colab_type": "code",
        "outputId": "e0166d4c-ad73-4a35-e6d6-8fe863160980",
        "colab": {
          "base_uri": "https://localhost:8080/",
          "height": 87
        }
      },
      "source": [
        "model.add(Conv2D(32, (3,3), input_shape = (28,28,1),activation = \"relu\"))\n",
        "#input shape = (None,row,col,channels)"
      ],
      "execution_count": 0,
      "outputs": [
        {
          "output_type": "stream",
          "text": [
            "WARNING:tensorflow:From /usr/local/lib/python3.6/dist-packages/tensorflow/python/framework/op_def_library.py:263: colocate_with (from tensorflow.python.framework.ops) is deprecated and will be removed in a future version.\n",
            "Instructions for updating:\n",
            "Colocations handled automatically by placer.\n"
          ],
          "name": "stdout"
        }
      ]
    },
    {
      "cell_type": "code",
      "metadata": {
        "id": "uSUPWbHXKNx4",
        "colab_type": "code",
        "colab": {}
      },
      "source": [
        "model.add(MaxPooling2D(pool_size = (2,2)))"
      ],
      "execution_count": 0,
      "outputs": []
    },
    {
      "cell_type": "code",
      "metadata": {
        "id": "S19GBS4iKsoS",
        "colab_type": "code",
        "colab": {}
      },
      "source": [
        "model.add(Flatten())"
      ],
      "execution_count": 0,
      "outputs": []
    },
    {
      "cell_type": "code",
      "metadata": {
        "id": "-XR3GaDmKzBM",
        "colab_type": "code",
        "colab": {}
      },
      "source": [
        "model.add(Dense(units = 128, activation = \"relu\"))"
      ],
      "execution_count": 0,
      "outputs": []
    },
    {
      "cell_type": "code",
      "metadata": {
        "id": "Z6yKwUgHLHqP",
        "colab_type": "code",
        "colab": {}
      },
      "source": [
        "model.add(Dense(units = 10, activation = \"softmax\"))\n",
        "#units is the number of output nodes and softmax because of multi class classification problem"
      ],
      "execution_count": 0,
      "outputs": []
    },
    {
      "cell_type": "code",
      "metadata": {
        "id": "gA2JKSdHLPhg",
        "colab_type": "code",
        "colab": {}
      },
      "source": [
        "model.compile(optimizer = \"adam\", loss = \"categorical_crossentropy\", metrics = [\"accuracy\"])\n",
        "#note the loss = \"categorical_crossentropy\" which used to be loss = \"binary_crossentropy\" in case of binary classification"
      ],
      "execution_count": 0,
      "outputs": []
    },
    {
      "cell_type": "code",
      "metadata": {
        "id": "vitz802ZOsjA",
        "colab_type": "code",
        "outputId": "1ae1e48a-c2cf-4238-af23-a886df09b6b4",
        "colab": {
          "base_uri": "https://localhost:8080/",
          "height": 457
        }
      },
      "source": [
        "model.fit(x_train, y_train, batch_size = 128, epochs = 10,validation_data = (x_test,y_test))"
      ],
      "execution_count": 0,
      "outputs": [
        {
          "output_type": "stream",
          "text": [
            "WARNING:tensorflow:From /usr/local/lib/python3.6/dist-packages/tensorflow/python/ops/math_ops.py:3066: to_int32 (from tensorflow.python.ops.math_ops) is deprecated and will be removed in a future version.\n",
            "Instructions for updating:\n",
            "Use tf.cast instead.\n",
            "Train on 60000 samples, validate on 10000 samples\n",
            "Epoch 1/10\n",
            "60000/60000 [==============================] - 39s 643us/step - loss: 0.2161 - acc: 0.9382 - val_loss: 0.0784 - val_acc: 0.9778\n",
            "Epoch 2/10\n",
            "60000/60000 [==============================] - 38s 630us/step - loss: 0.0659 - acc: 0.9797 - val_loss: 0.0641 - val_acc: 0.9804\n",
            "Epoch 3/10\n",
            "60000/60000 [==============================] - 38s 628us/step - loss: 0.0449 - acc: 0.9864 - val_loss: 0.0498 - val_acc: 0.9838\n",
            "Epoch 4/10\n",
            "60000/60000 [==============================] - 38s 639us/step - loss: 0.0329 - acc: 0.9900 - val_loss: 0.0422 - val_acc: 0.9856\n",
            "Epoch 5/10\n",
            "60000/60000 [==============================] - 37s 625us/step - loss: 0.0236 - acc: 0.9928 - val_loss: 0.0450 - val_acc: 0.9860\n",
            "Epoch 6/10\n",
            "60000/60000 [==============================] - 37s 625us/step - loss: 0.0185 - acc: 0.9943 - val_loss: 0.0440 - val_acc: 0.9855\n",
            "Epoch 7/10\n",
            "60000/60000 [==============================] - 38s 626us/step - loss: 0.0147 - acc: 0.9954 - val_loss: 0.0470 - val_acc: 0.9857\n",
            "Epoch 8/10\n",
            "60000/60000 [==============================] - 37s 623us/step - loss: 0.0099 - acc: 0.9972 - val_loss: 0.0441 - val_acc: 0.9862\n",
            "Epoch 9/10\n",
            "60000/60000 [==============================] - 37s 620us/step - loss: 0.0083 - acc: 0.9977 - val_loss: 0.0486 - val_acc: 0.9856\n",
            "Epoch 10/10\n",
            "60000/60000 [==============================] - 38s 626us/step - loss: 0.0081 - acc: 0.9975 - val_loss: 0.0467 - val_acc: 0.9863\n"
          ],
          "name": "stdout"
        },
        {
          "output_type": "execute_result",
          "data": {
            "text/plain": [
              "<keras.callbacks.History at 0x7f4a6cdefba8>"
            ]
          },
          "metadata": {
            "tags": []
          },
          "execution_count": 10
        }
      ]
    },
    {
      "cell_type": "code",
      "metadata": {
        "id": "VNzZ2NzcOEl-",
        "colab_type": "code",
        "outputId": "9865e4d1-35bb-4833-dc23-1203c402f7af",
        "colab": {
          "base_uri": "https://localhost:8080/",
          "height": 50
        }
      },
      "source": [
        "score = model.evaluate(x_test, y_test, verbose = 0)\n",
        "print(\"Test loss : \",score[0])\n",
        "print(\"Test accuracy: \", score[1]*100)"
      ],
      "execution_count": 0,
      "outputs": [
        {
          "output_type": "stream",
          "text": [
            "Test loss :  0.046728677835992855\n",
            "Test accuracy:  98.63\n"
          ],
          "name": "stdout"
        }
      ]
    },
    {
      "cell_type": "code",
      "metadata": {
        "id": "KPUZ2LYt-TEe",
        "colab_type": "code",
        "colab": {}
      },
      "source": [
        ""
      ],
      "execution_count": 0,
      "outputs": []
    }
  ]
}